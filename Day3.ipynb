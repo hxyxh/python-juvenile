{
 "cells": [
  {
   "cell_type": "markdown",
   "id": "024045cc-2758-4534-9a42-2fb1eec06ed3",
   "metadata": {},
   "source": [
    "## Function logic"
   ]
  },
  {
   "cell_type": "markdown",
   "id": "67938be0-66d0-4f43-b67d-00d9ba2319e8",
   "metadata": {},
   "source": [
    "### 3 digits Narcissistic number\n",
    "e.g. 1^3 + 5^3+ 3^3=153"
   ]
  },
  {
   "cell_type": "code",
   "execution_count": 3,
   "id": "ba11661e-36cb-44e6-8268-8d5274d5fbef",
   "metadata": {},
   "outputs": [
    {
     "name": "stdout",
     "output_type": "stream",
     "text": [
      "153\n",
      "370\n",
      "371\n",
      "407\n"
     ]
    }
   ],
   "source": [
    "for num in range(100, 1000):\n",
    "    low = num % 10\n",
    "    mid = num // 10 % 10\n",
    "    high = num // 100\n",
    "    if num == low ** 3 + mid ** 3 + high ** 3:\n",
    "        print(num)"
   ]
  },
  {
   "cell_type": "markdown",
   "id": "1a36ed74-40b3-4f32-be04-5796a585d32d",
   "metadata": {},
   "source": [
    "### reverse number"
   ]
  },
  {
   "cell_type": "code",
   "execution_count": 4,
   "id": "1851ac73-2b83-4934-874f-51399723f50d",
   "metadata": {},
   "outputs": [
    {
     "name": "stdin",
     "output_type": "stream",
     "text": [
      "num =  12545\n"
     ]
    },
    {
     "name": "stdout",
     "output_type": "stream",
     "text": [
      "54521\n"
     ]
    }
   ],
   "source": [
    "num = int(input('num = '))\n",
    "reversed_num = 0\n",
    "while num > 0:\n",
    "    reversed_num = reversed_num * 10 + num % 10\n",
    "    num //= 10\n",
    "print(reversed_num)"
   ]
  },
  {
   "cell_type": "markdown",
   "id": "918ccc33-765b-416d-8c4b-e193e223900f",
   "metadata": {},
   "source": [
    "### $100 buget\n",
    "\n",
    "- bunny $5\n",
    "\n",
    "- guinea pig $3\n",
    "\n",
    "- hamster $1/3\n",
    "\n",
    "To by 100 pets with $100\n",
    "\n"
   ]
  },
  {
   "cell_type": "code",
   "execution_count": 5,
   "id": "85352b14-318e-4f68-a9d7-1ce390ecfe73",
   "metadata": {},
   "outputs": [
    {
     "name": "stdout",
     "output_type": "stream",
     "text": [
      "bunny: 0, guine pig: 25, hamster: 75\n",
      "bunny: 4, guine pig: 18, hamster: 78\n",
      "bunny: 8, guine pig: 11, hamster: 81\n",
      "bunny: 12, guine pig: 4, hamster: 84\n"
     ]
    }
   ],
   "source": [
    "for x in range(0, 20):\n",
    "    for y in range(0, 33):\n",
    "        z = 100 - x - y\n",
    "        if 5 * x + 3 * y + z / 3 == 100:\n",
    "            print('bunny: %d, guine pig: %d, hamster: %d' % (x, y, z))"
   ]
  },
  {
   "cell_type": "markdown",
   "id": "25993e44-a8d3-4108-8ee7-69a7b135706d",
   "metadata": {},
   "source": [
    "### first 20 Fibonacci sequence"
   ]
  },
  {
   "cell_type": "code",
   "execution_count": null,
   "id": "3d9b9116-5c41-4c03-9b6d-2a11e0f41d5a",
   "metadata": {},
   "outputs": [],
   "source": []
  },
  {
   "cell_type": "markdown",
   "id": "46c9b647-45a1-4223-863a-05c15ccf7a97",
   "metadata": {},
   "source": [
    "### Perfect number less than 10000"
   ]
  }
 ],
 "metadata": {
  "kernelspec": {
   "display_name": "Python 3 (ipykernel)",
   "language": "python",
   "name": "python3"
  },
  "language_info": {
   "codemirror_mode": {
    "name": "ipython",
    "version": 3
   },
   "file_extension": ".py",
   "mimetype": "text/x-python",
   "name": "python",
   "nbconvert_exporter": "python",
   "pygments_lexer": "ipython3",
   "version": "3.9.18"
  }
 },
 "nbformat": 4,
 "nbformat_minor": 5
}
