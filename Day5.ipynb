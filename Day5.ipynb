{
 "cells": [
  {
   "cell_type": "markdown",
   "id": "4931d9db-13d7-4cba-a6ed-b7d71c7010c9",
   "metadata": {},
   "source": [
    "## String"
   ]
  },
  {
   "cell_type": "code",
   "execution_count": null,
   "id": "ce86b854-1caa-4a09-b269-061bb1dc0608",
   "metadata": {},
   "outputs": [],
   "source": [
    "s1 = 'hello, world!'\n",
    "s2 = \"hello, world!\"\n",
    "\n",
    "s3 = \"\"\"\n",
    "hello, \n",
    "world!\n",
    "\"\"\"\n",
    "print(s1, s2, s3, end='')"
   ]
  },
  {
   "cell_type": "code",
   "execution_count": null,
   "id": "b60056a9-fd2d-48c1-8ab4-b8ea62b0627c",
   "metadata": {},
   "outputs": [],
   "source": [
    "s1 = '\\'hello, world!\\''\n",
    "s2 = '\\n\\\\hello, world!\\\\\\n'\n",
    "print(s1, s2, end='')"
   ]
  },
  {
   "cell_type": "code",
   "execution_count": null,
   "id": "9573ffee-e95c-44ff-8847-81571307dd16",
   "metadata": {},
   "outputs": [],
   "source": [
    "s1 = '\\141\\142\\143\\x61\\x62\\x63'\n",
    "s2 = '\\u5b9d\\u8d1d'\n",
    "print(s1, s2)"
   ]
  },
  {
   "cell_type": "code",
   "execution_count": null,
   "id": "afd3605a-3367-4d4e-87f3-ff610d6bffa8",
   "metadata": {},
   "outputs": [],
   "source": [
    "s1 = 'hello ' * 3\n",
    "print(s1) # hello hello hello \n",
    "s2 = 'world'\n",
    "s1 += s2\n",
    "print(s1) # hello hello hello world\n",
    "print('ll' in s1) # True\n",
    "print('good' in s1) # False\n",
    "str2 = 'abc123456'\n",
    "\n",
    "print(str2[2]) # c\n",
    "\n",
    "\n",
    "print(str2[2:5]) # c12\n",
    "print(str2[2:]) # c123456\n",
    "print(str2[2::2]) # c246\n",
    "print(str2[::2]) # ac246\n",
    "print(str2[::-1]) # 654321cba\n",
    "print(str2[-3:-1]) # 45"
   ]
  },
  {
   "cell_type": "code",
   "execution_count": null,
   "id": "d7861be4-4cf5-4105-afd4-81d6c3eb6ca6",
   "metadata": {},
   "outputs": [],
   "source": [
    "str1 = 'hello, world!'\n",
    "print(len(str1)) # 13\n",
    "print(str1.capitalize()) # Hello, world!\n",
    "print(str1.title()) # Hello, World!\n",
    "print(str1.upper()) # HELLO, WORLD!\n",
    "print(str1.find('or')) # 8\n",
    "print(str1.find('shoo')) # -1\n",
    "print(str1.startswith('He')) # False\n",
    "print(str1.startswith('hel')) # True\n",
    "print(str1.endswith('!')) # True\n",
    "print(str1.center(50, '*'))\n",
    "print(str1.rjust(50, ' '))\n",
    "\n",
    "str2 = 'abc123456'\n",
    "print(str2.isdigit())  # False\n",
    "print(str2.isalpha())  # False\n",
    "print(str2.isalnum())  # True\n",
    "str3 = '  jackfrued@yahoo.com '\n",
    "print(str3)\n",
    "print(str3.strip())"
   ]
  },
  {
   "cell_type": "code",
   "execution_count": null,
   "id": "f2ea1479-572d-4e6c-8663-bb4c3c2ce90d",
   "metadata": {},
   "outputs": [],
   "source": [
    "a, b = 5, 10\n",
    "print('%d * %d = %d' % (a, b, a * b))\n",
    "print('{0} * {1} = {2}'.format(a, b, a * b))\n",
    "print(f'{a} * {b} = {a * b}')"
   ]
  },
  {
   "cell_type": "markdown",
   "id": "dcd5038d-b06f-4568-a4cb-a274629cff1f",
   "metadata": {},
   "source": [
    "### List"
   ]
  },
  {
   "cell_type": "code",
   "execution_count": null,
   "id": "9c14dc85-fc13-4246-8930-44d7546547e5",
   "metadata": {},
   "outputs": [],
   "source": [
    "list1 = [1, 3, 5, 7, 100]\n",
    "print(list1) # [1, 3, 5, 7, 100]\n",
    "\n",
    "list2 = ['hello'] * 3\n",
    "print(list2) # ['hello', 'hello', 'hello']\n",
    "\n",
    "print(len(list1)) # 5\n",
    "\n",
    "print(list1[0]) # 1\n",
    "print(list1[4]) # 100\n",
    "# print(list1[5])  # IndexError: list index out of range\n",
    "print(list1[-1]) # 100\n",
    "print(list1[-3]) # 5\n",
    "list1[2] = 300\n",
    "print(list1) # [1, 3, 300, 7, 100]\n",
    "\n",
    "for index in range(len(list1)):\n",
    "    print(list1[index])\n",
    "\n",
    "for elem in list1:\n",
    "    print(elem)\n",
    "\n",
    "for index, elem in enumerate(list1):\n",
    "    print(index, elem)"
   ]
  },
  {
   "cell_type": "code",
   "execution_count": null,
   "id": "75ecb636-18a1-4ddf-875d-a074d290b586",
   "metadata": {},
   "outputs": [],
   "source": [
    "list1 = [1, 3, 5, 7, 100]\n",
    "\n",
    "list1.append(200)\n",
    "list1.insert(1, 400)\n",
    "\n",
    "# list1.extend([1000, 2000])\n",
    "list1 += [1000, 2000]\n",
    "\n",
    "print(list1) # [1, 400, 3, 5, 7, 100, 200, 1000, 2000]\n",
    "print(len(list1)) # 9\n",
    "\n",
    "\n",
    "if 3 in list1:\n",
    "\tlist1.remove(3)\n",
    "if 1234 in list1:\n",
    "    list1.remove(1234)\n",
    "print(list1) # [1, 400, 5, 7, 100, 200, 1000, 2000]\n",
    "\n",
    "\n",
    "list1.pop(0)\n",
    "list1.pop(len(list1) - 1)\n",
    "print(list1) # [400, 5, 7, 100, 200, 1000]\n",
    "\n",
    "\n",
    "list1.clear()\n",
    "print(list1) # []"
   ]
  },
  {
   "cell_type": "code",
   "execution_count": null,
   "id": "94e58f63-c6da-4a2c-8086-d6339e5d3c78",
   "metadata": {},
   "outputs": [],
   "source": [
    "fruits = ['grape', 'apple', 'strawberry', 'waxberry']\n",
    "fruits += ['pitaya', 'pear', 'mango']\n",
    "\n",
    "fruits2 = fruits[1:4]\n",
    "print(fruits2) # apple strawberry waxberry\n",
    "\n",
    "fruits3 = fruits[:]\n",
    "print(fruits3) # ['grape', 'apple', 'strawberry', 'waxberry', 'pitaya', 'pear', 'mango']\n",
    "fruits4 = fruits[-3:-1]\n",
    "print(fruits4) # ['pitaya', 'pear']\n",
    "\n",
    "\n",
    "fruits5 = fruits[::-1]\n",
    "print(fruits5) # ['mango', 'pear', 'pitaya', 'waxberry', 'strawberry', 'apple', 'grape']"
   ]
  },
  {
   "cell_type": "code",
   "execution_count": null,
   "id": "77b9d948-68ba-4317-801b-9419be4e066e",
   "metadata": {},
   "outputs": [],
   "source": [
    "list1 = ['orange', 'apple', 'zoo', 'internationalization', 'blueberry']\n",
    "list2 = sorted(list1)\n",
    "list3 = sorted(list1, reverse=True)\n",
    "list4 = sorted(list1, key=len)\n",
    "print(list1)\n",
    "print(list2)\n",
    "print(list3)\n",
    "print(list4)\n",
    "list1.sort(reverse=True)\n",
    "print(list1)\n"
   ]
  },
  {
   "cell_type": "code",
   "execution_count": null,
   "id": "9f741860-ea32-410e-997a-d299ba612bab",
   "metadata": {},
   "outputs": [],
   "source": [
    "# generator\n",
    "import sys\n",
    "f = [x for x in range(1, 10)]\n",
    "print(f)\n",
    "f = [x + y for x in 'ABCDE' for y in '1234567']\n",
    "print(f)\n",
    "\n",
    "f = [x ** 2 for x in range(1, 1000)]\n",
    "print(sys.getsizeof(f)) \n",
    "print(f)\n",
    "\n",
    "f = (x ** 2 for x in range(1, 1000))\n",
    "print(sys.getsizeof(f)) \n",
    "print(f)\n",
    "for val in f:\n",
    "    print(val)"
   ]
  },
  {
   "cell_type": "code",
   "execution_count": null,
   "id": "740b02c2-d669-471f-9f62-790178a804ce",
   "metadata": {},
   "outputs": [],
   "source": [
    "#fibonacci\n",
    "def fib(n):\n",
    "    a, b = 0, 1\n",
    "    for _ in range(n):\n",
    "        a, b = b, a + b\n",
    "        yield a\n",
    "\n",
    "\n",
    "for val in fib(20):\n",
    "        print(val)"
   ]
  },
  {
   "cell_type": "markdown",
   "id": "8e1a0074-d2ed-4c04-81fe-c79d5bfe34a3",
   "metadata": {},
   "source": [
    "## Tuple"
   ]
  },
  {
   "cell_type": "code",
   "execution_count": null,
   "id": "8c935450-c8f7-4337-acfb-3033b18533f1",
   "metadata": {},
   "outputs": [],
   "source": [
    "\n",
    "t = ('North Wales', 219, True, 'PA')\n",
    "print(t)\n",
    "\n",
    "print(t[0])\n",
    "print(t[3])\n",
    "\n",
    "for member in t:\n",
    "    print(member)\n",
    "\n",
    "#t[0] = 'Potomac'\n",
    "\n",
    "# turn to list\n",
    "person = list(t)\n",
    "print(person)\n",
    "\n",
    "\n",
    "person[0] = 'Potomac'\n",
    "person[1] = 25\n",
    "print(person)\n",
    "\n",
    "fruits_list = ['apple', 'banana', 'orange']\n",
    "fruits_tuple = tuple(fruits_list)\n",
    "print(fruits_tuple)"
   ]
  },
  {
   "cell_type": "markdown",
   "id": "8fa2ef1f-ea00-4545-9ddb-b309e3effc1b",
   "metadata": {},
   "source": [
    "## Set"
   ]
  },
  {
   "cell_type": "code",
   "execution_count": null,
   "id": "c4add425-c267-4043-bc00-1b970b2d0812",
   "metadata": {},
   "outputs": [],
   "source": [
    "\n",
    "set1 = {1, 2, 3, 3, 3, 2}\n",
    "print(set1)\n",
    "print('Length =', len(set1))\n",
    "\n",
    "set2 = set(range(1, 10))\n",
    "set3 = set((1, 2, 3, 3, 2, 1))\n",
    "print(set2, set3)\n",
    "\n",
    "set4 = {num for num in range(1, 100) if num % 3 == 0 or num % 5 == 0}\n",
    "print(set4)\n",
    "\n",
    "set1.add(4)\n",
    "set1.add(5)\n",
    "set2.update([11, 12])\n",
    "set2.discard(5)\n",
    "if 4 in set2:\n",
    "    set2.remove(4)\n",
    "print(set1, set2)\n",
    "print(set3.pop())\n",
    "print(set3)\n",
    "\n",
    "\n",
    "\n",
    "\n",
    "print(set1 & set2)\n",
    "# print(set1.intersection(set2))\n",
    "print(set1 | set2)\n",
    "# print(set1.union(set2))\n",
    "print(set1 - set2)\n",
    "# print(set1.difference(set2))\n",
    "print(set1 ^ set2)\n",
    "# print(set1.symmetric_difference(set2))\n",
    "\n",
    "print(set2 <= set1)\n",
    "# print(set2.issubset(set1))\n",
    "print(set3 <= set1)\n",
    "# print(set3.issubset(set1))\n",
    "print(set1 >= set2)\n",
    "# print(set1.issuperset(set2))\n",
    "print(set1 >= set3)\n",
    "# print(set1.issuperset(set3))"
   ]
  },
  {
   "cell_type": "markdown",
   "id": "a0ee43bf-c285-4af4-b031-923ff387d03d",
   "metadata": {},
   "source": [
    "## Dict"
   ]
  },
  {
   "cell_type": "code",
   "execution_count": null,
   "id": "59ba59f2-8ba4-4fc3-a89f-24d4aa9c330f",
   "metadata": {},
   "outputs": [],
   "source": [
    "\n",
    "scores = {'Angie': 95, 'Audrey': 78, 'Eliza': 82}\n",
    "print(scores)\n",
    "\n",
    "\n",
    "items1 = dict(one=1, two=2, three=3, four=4)\n",
    "\n",
    "items2 = dict(zip(['a', 'b', 'c'], '123'))\n",
    "\n",
    "items3 = {num: num ** 2 for num in range(1, 10)}\n",
    "print(items1, items2, items3)\n",
    "\n",
    "print(scores['Angie'])\n",
    "print(scores['Audrey'])\n",
    "\n",
    "for key in scores:\n",
    "    print(f'{key}: {scores[key]}')\n",
    "\n",
    "scores['Eliza'] = 65\n",
    "scores['Kunkun'] = 71\n",
    "scores.update(Jianjian=67, TianTian=85)\n",
    "print(scores)\n",
    "\n",
    "if 'YuanYuan' in scores:\n",
    "    print(scores['YuanYuan'])\n",
    "print(scores.get('YuanYuan'))\n",
    "\n",
    "\n",
    "print(scores.get('YuanYuan', 60))\n",
    "\n",
    "print(scores.popitem())\n",
    "print(scores.popitem())\n",
    "print(scores.pop('Elizaa', 100))\n",
    "\n",
    "\n",
    "scores.clear()\n",
    "print(scores)"
   ]
  },
  {
   "cell_type": "markdown",
   "id": "d9f36884-db95-4d77-9c04-ffab20d524d5",
   "metadata": {},
   "source": [
    "## Practice"
   ]
  },
  {
   "cell_type": "code",
   "execution_count": null,
   "id": "d5777c5c-909c-42c1-8cf3-bb8fe4ed715e",
   "metadata": {},
   "outputs": [],
   "source": [
    "# Given a length, generate a random string, from 0123456789abcdefghijklmnopqrstuvwxyzABCDEFGHIJKLMNOPQRSTUVWXYZ\n",
    "def generate_code(code_len=4):\n",
    "    pass"
   ]
  },
  {
   "cell_type": "code",
   "execution_count": null,
   "id": "46e3cddc-3a3a-45cf-be91-241fe2d08ba6",
   "metadata": {},
   "outputs": [],
   "source": [
    "# pring N rows of Pascal's triangle, use `\\t` as delimiter\n",
    "\"\"\"\n",
    "            1\n",
    "        1        1\n",
    "    1       2        1\n",
    " 1      3        3       1  \n",
    "\"\"\"\n",
    "\n",
    "def print_pascal_triangle(n=5):\n",
    "    pass\n"
   ]
  },
  {
   "cell_type": "code",
   "execution_count": null,
   "id": "e1f949d6-b051-470b-a1bc-48392caa61f3",
   "metadata": {},
   "outputs": [],
   "source": [
    "#Josephus problem\n",
    "#https://en.wikipedia.org/wiki/Josephus_problem\n"
   ]
  },
  {
   "cell_type": "code",
   "execution_count": null,
   "id": "8b931aa7-153c-4823-bd6e-7db6b5695b37",
   "metadata": {},
   "outputs": [],
   "source": []
  }
 ],
 "metadata": {
  "kernelspec": {
   "display_name": "Python 3 (ipykernel)",
   "language": "python",
   "name": "python3"
  },
  "language_info": {
   "codemirror_mode": {
    "name": "ipython",
    "version": 3
   },
   "file_extension": ".py",
   "mimetype": "text/x-python",
   "name": "python",
   "nbconvert_exporter": "python",
   "pygments_lexer": "ipython3",
   "version": "3.12.1"
  }
 },
 "nbformat": 4,
 "nbformat_minor": 5
}
