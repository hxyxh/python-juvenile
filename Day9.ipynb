{
 "cells": [
  {
   "cell_type": "markdown",
   "id": "e62fd18f-8a1d-41b7-baaf-c9533954bcae",
   "metadata": {},
   "source": [
    "## Machine Learning"
   ]
  },
  {
   "cell_type": "markdown",
   "id": "795639d2-1967-42bc-86af-ae6e6f1a76f6",
   "metadata": {},
   "source": [
    "![alt text](https://i.sstatic.net/IMVOl.png \"Machine Learning\")"
   ]
  },
  {
   "cell_type": "code",
   "execution_count": null,
   "id": "a616c940-47b6-4c19-8ee0-8f35032d812f",
   "metadata": {},
   "outputs": [],
   "source": [
    "!pip install scikit-learn seaborn"
   ]
  },
  {
   "cell_type": "markdown",
   "id": "2afdcbb0-4027-431e-8367-bee03d468622",
   "metadata": {},
   "source": [
    "## load dataset"
   ]
  },
  {
   "cell_type": "code",
   "execution_count": null,
   "id": "d31dc673-afb4-4da2-8fea-8348063d559c",
   "metadata": {},
   "outputs": [],
   "source": [
    "from sklearn import datasets\n",
    "\n",
    "iris = datasets.load_iris()\n",
    "iris"
   ]
  },
  {
   "cell_type": "code",
   "execution_count": null,
   "id": "202793ca-9045-45f8-bdf2-1b92db06d645",
   "metadata": {},
   "outputs": [],
   "source": [
    "datasets.load_breast_cancer()\n"
   ]
  },
  {
   "cell_type": "code",
   "execution_count": null,
   "id": "1c191c43-9122-4137-bb08-bdc3035395f8",
   "metadata": {},
   "outputs": [],
   "source": [
    "datasets.load_diabetes()"
   ]
  },
  {
   "cell_type": "code",
   "execution_count": null,
   "id": "9dda20cd-e418-4b97-9ff5-f7c2328767e4",
   "metadata": {},
   "outputs": [],
   "source": [
    "import matplotlib.pyplot as plt\n",
    "\n",
    "from sklearn import datasets, svm\n",
    "from sklearn.inspection import DecisionBoundaryDisplay\n",
    "\n",
    "# import some data to play with\n",
    "iris = datasets.load_iris()\n",
    "# Take the first two features. We could avoid this by using a two-dim dataset\n",
    "X = iris.data[:, :2]\n",
    "y = iris.target\n",
    "\n",
    "# we create an instance of SVM and fit out data. We do not scale our\n",
    "# data since we want to plot the support vectors\n",
    "C = 1.0  # SVM regularization parameter\n",
    "models = (\n",
    "    svm.SVC(kernel=\"linear\", C=C),\n",
    "    svm.LinearSVC(C=C, max_iter=10000),\n",
    "    svm.SVC(kernel=\"rbf\", gamma=0.7, C=C),\n",
    "    svm.SVC(kernel=\"poly\", degree=3, gamma=\"auto\", C=C),\n",
    ")\n",
    "models = (clf.fit(X, y) for clf in models)\n",
    "\n",
    "# title for the plots\n",
    "titles = (\n",
    "    \"SVC with linear kernel\",\n",
    "    \"LinearSVC (linear kernel)\",\n",
    "    \"SVC with RBF kernel\",\n",
    "    \"SVC with polynomial (degree 3) kernel\",\n",
    ")\n",
    "\n",
    "# Set-up 2x2 grid for plotting.\n",
    "fig, sub = plt.subplots(2, 2)\n",
    "plt.subplots_adjust(wspace=0.4, hspace=0.4)\n",
    "\n",
    "X0, X1 = X[:, 0], X[:, 1]\n",
    "\n",
    "for clf, title, ax in zip(models, titles, sub.flatten()):\n",
    "    disp = DecisionBoundaryDisplay.from_estimator(\n",
    "        clf,\n",
    "        X,\n",
    "        response_method=\"predict\",\n",
    "        cmap=plt.cm.coolwarm,\n",
    "        alpha=0.8,\n",
    "        ax=ax,\n",
    "        xlabel=iris.feature_names[0],\n",
    "        ylabel=iris.feature_names[1],\n",
    "    )\n",
    "    ax.scatter(X0, X1, c=y, cmap=plt.cm.coolwarm, s=20, edgecolors=\"k\")\n",
    "    ax.set_xticks(())\n",
    "    ax.set_yticks(())\n",
    "    ax.set_title(title)\n",
    "\n",
    "plt.show()"
   ]
  },
  {
   "cell_type": "markdown",
   "id": "af7feea2-ffd7-4bb8-b5d5-29c68cbfda9a",
   "metadata": {},
   "source": [
    "## Data Visualization"
   ]
  },
  {
   "cell_type": "code",
   "execution_count": null,
   "id": "2f75374e-88c7-45e4-ad3c-9aedac03204d",
   "metadata": {},
   "outputs": [],
   "source": [
    "import pandas as pd\n",
    "import numpy as np\n",
    "data = pd.DataFrame(data= np.c_[iris['data'], iris['target']],\n",
    "                     columns= iris['feature_names'] + ['target'])\n",
    "data\n"
   ]
  },
  {
   "cell_type": "code",
   "execution_count": null,
   "id": "4e0cedbe-4f76-4afb-9bad-669959afaa90",
   "metadata": {},
   "outputs": [],
   "source": [
    "\"\"\"\n",
    "Iris-setosa        0\n",
    "Iris-versicolor    1\n",
    "Iris-virginica     2\n",
    "\"\"\"\n",
    "\n",
    "data['target'].value_counts()"
   ]
  },
  {
   "cell_type": "code",
   "execution_count": null,
   "id": "fef7b07d-ac43-4d5f-9349-4c9d97128d00",
   "metadata": {},
   "outputs": [],
   "source": [
    "\n",
    "import seaborn as sns\n",
    "sns.set_palette('husl')\n",
    "g = sns.pairplot(data, hue='target', markers='+')\n",
    "plt.show()"
   ]
  },
  {
   "cell_type": "code",
   "execution_count": null,
   "id": "294f0be4-8b91-42dd-af1e-ebf6e28f01ab",
   "metadata": {},
   "outputs": [],
   "source": [
    "for feature in iris.feature_names:\n",
    "    g = sns.violinplot(x='target', y=feature, data=data, inner='quartile')\n",
    "    plt.show()\n",
    "    "
   ]
  },
  {
   "cell_type": "markdown",
   "id": "c5bbe5aa-e508-40f3-a310-8edf9c5abd42",
   "metadata": {},
   "source": [
    "## Train and test on the same dataset"
   ]
  },
  {
   "cell_type": "code",
   "execution_count": null,
   "id": "d69929e7-c5d7-42c7-a0bd-63a81c05d5b6",
   "metadata": {},
   "outputs": [],
   "source": [
    "X = data.drop(['target'], axis=1)\n",
    "y = data['target']\n",
    "print(X.shape)\n",
    "print(y.shape)"
   ]
  },
  {
   "cell_type": "code",
   "execution_count": null,
   "id": "e5dc2f25-9d5b-4337-9785-0278c783cab5",
   "metadata": {},
   "outputs": [],
   "source": [
    "from sklearn import metrics\n",
    "from sklearn.neighbors import KNeighborsClassifier\n",
    "\n",
    "k_range = list(range(1,26))\n",
    "scores = []\n",
    "for k in k_range:\n",
    "    knn = KNeighborsClassifier(n_neighbors=k)\n",
    "    knn.fit(X, y)\n",
    "    y_pred = knn.predict(X)\n",
    "    scores.append(metrics.accuracy_score(y, y_pred))\n",
    "    \n",
    "plt.plot(k_range, scores)\n",
    "plt.xlabel('Value of k for KNN')\n",
    "plt.ylabel('Accuracy Score')\n",
    "plt.title('Accuracy Scores for Values of k of k-Nearest-Neighbors')\n",
    "plt.show()"
   ]
  },
  {
   "cell_type": "code",
   "execution_count": null,
   "id": "ffcc2475-1c85-4e77-bda8-927441ecb623",
   "metadata": {},
   "outputs": [],
   "source": [
    "from sklearn.svm import SVC\n",
    "svc = SVC()\n",
    "svc.fit(X, y)\n",
    "y_pred = svc.predict(X)\n",
    "print(metrics.accuracy_score(y, y_pred))\n",
    "for i in range(len(y)):\n",
    "    print(y[i],\"==\" if y[i]==y_pred[i] else \"=/=\",  y_pred[i])"
   ]
  },
  {
   "cell_type": "markdown",
   "id": "86f0bc7a-6be8-40e6-9562-d3195cb1e1d4",
   "metadata": {},
   "source": [
    "## Split the dataset into a training set and a testing set"
   ]
  },
  {
   "cell_type": "code",
   "execution_count": null,
   "id": "2c36a127-3b0a-47c5-8f14-104eadd37a03",
   "metadata": {},
   "outputs": [],
   "source": [
    "from sklearn.model_selection import train_test_split\n",
    "X_train, X_test, y_train, y_test = train_test_split(X, y, test_size=0.4)\n",
    "print(X_train.shape)\n",
    "print(y_train.shape)\n",
    "print(X_test.shape)\n",
    "print(y_test.shape)"
   ]
  },
  {
   "cell_type": "code",
   "execution_count": null,
   "id": "0acd6653-addc-4f01-bdf5-a209cdbe2571",
   "metadata": {},
   "outputs": [],
   "source": [
    "# experimenting with different n values\n",
    "k_range = list(range(1,26))\n",
    "scores = []\n",
    "for k in k_range:\n",
    "    knn = KNeighborsClassifier(n_neighbors=k)\n",
    "    knn.fit(X_train, y_train)\n",
    "    y_pred = knn.predict(X_test)\n",
    "    scores.append(metrics.accuracy_score(y_test, y_pred))\n",
    "    \n",
    "plt.plot(k_range, scores)\n",
    "plt.xlabel('Value of k for KNN')\n",
    "plt.ylabel('Accuracy Score')\n",
    "plt.title('Accuracy Scores for Values of k of k-Nearest-Neighbors')\n",
    "plt.show()"
   ]
  },
  {
   "cell_type": "code",
   "execution_count": null,
   "id": "41726402-be82-4706-8213-594eec3d792c",
   "metadata": {},
   "outputs": [],
   "source": [
    "knn = KNeighborsClassifier(n_neighbors=12)\n",
    "knn.fit(X, y)\n",
    "\n",
    "# make a prediction for an example of an out-of-sample observation\n",
    "knn.predict([[6, 3, 4, 2]])"
   ]
  },
  {
   "cell_type": "markdown",
   "id": "8902fd83-06f6-4c36-950c-b2ffc1aace8e",
   "metadata": {},
   "source": [
    "# regression"
   ]
  },
  {
   "cell_type": "code",
   "execution_count": null,
   "id": "7eef85aa-5d24-4e34-affb-830ccb7541fc",
   "metadata": {},
   "outputs": [],
   "source": [
    "data_url = \"https://raw.githubusercontent.com/selva86/datasets/master/BostonHousing.csv\"\n",
    "data = pd.read_csv(data_url, on_bad_lines='skip')\n",
    "data"
   ]
  },
  {
   "cell_type": "code",
   "execution_count": null,
   "id": "c0fa135a-15b0-4cab-af97-5d7f91f60827",
   "metadata": {},
   "outputs": [],
   "source": [
    "from sklearn import linear_model\n",
    "\n",
    "model = linear_model.ElasticNet()\n",
    "X=data.drop(columns=[\"medv\"])\n",
    "y=data.medv\n",
    "\n",
    "\n",
    "model.fit(X, y)\n",
    "\n",
    "scorers = [\"explained_variance\",\n",
    "               \"max_error\",\n",
    "               \"neg_mean_absolute_error\",\n",
    "               \"neg_mean_squared_error\",\n",
    "               \"neg_root_mean_squared_error\",\n",
    "               \"neg_median_absolute_error\",\n",
    "               \"r2\"\n",
    "               ]\n",
    "\n",
    "from sklearn.model_selection import cross_validate, cross_val_predict\n",
    "score=cross_validate(model, X, y, cv=5, scoring=scorers)\n",
    "score\n",
    "\n"
   ]
  },
  {
   "cell_type": "code",
   "execution_count": null,
   "id": "05f61d27-4dce-47be-8ef1-239708bb49c4",
   "metadata": {},
   "outputs": [],
   "source": [
    "df = pd.DataFrame(score)\n",
    "std = []\n",
    "mean = []\n",
    "metrics = {}\n",
    "for k, v in score.items():\n",
    "        mean.append(v.mean())\n",
    "        std.append(v.std())\n",
    "        metrics[f\"cross_validate.{k}.mean\"] = mean[-1]\n",
    "        metrics[f\"cross_validate.{k}.std\"] = std[-1]\n",
    "df.loc['mean'] = mean\n",
    "df.loc['std'] = std\n",
    "df"
   ]
  },
  {
   "cell_type": "code",
   "execution_count": null,
   "id": "86c2204a-5fde-474f-8e3b-333dfb338ebe",
   "metadata": {},
   "outputs": [],
   "source": [
    "preds = cross_val_predict(model, X, y, cv=5)\n",
    "preds"
   ]
  },
  {
   "cell_type": "code",
   "execution_count": null,
   "id": "44fdfe1f-5a02-42d4-8938-49ecbdd08149",
   "metadata": {},
   "outputs": [],
   "source": [
    "fig, ax = plt.subplots()\n",
    "ax.scatter(y, preds)\n",
    "ax.plot([y.min(), y.max()], [y.min(), y.max()], 'k--', lw=4)\n",
    "ax.set_xlabel('measured')\n",
    "ax.set_ylabel('predicted')"
   ]
  },
  {
   "cell_type": "code",
   "execution_count": null,
   "id": "b2008bdd-6082-442e-a0ae-b3fe8c1fec31",
   "metadata": {},
   "outputs": [],
   "source": [
    "from sklearn import linear_model\n",
    "model = linear_model.Lasso()\n",
    "model.fit(X, y)\n",
    "model"
   ]
  },
  {
   "cell_type": "code",
   "execution_count": null,
   "id": "219e4630-165d-46a3-b9c1-468147c08370",
   "metadata": {},
   "outputs": [],
   "source": [
    "preds = cross_val_predict(model, X, y, cv=5)\n",
    "fig, ax = plt.subplots()\n",
    "ax.scatter(y, preds)\n",
    "ax.plot([y.min(), y.max()], [y.min(), y.max()], 'k--', lw=4)\n",
    "ax.set_xlabel('measured')\n",
    "ax.set_ylabel('predicted')"
   ]
  },
  {
   "cell_type": "code",
   "execution_count": null,
   "id": "d8dd828d-bc36-4103-914a-a2a45705c007",
   "metadata": {},
   "outputs": [],
   "source": []
  }
 ],
 "metadata": {
  "kernelspec": {
   "display_name": "Python 3 (ipykernel)",
   "language": "python",
   "name": "python3"
  },
  "language_info": {
   "codemirror_mode": {
    "name": "ipython",
    "version": 3
   },
   "file_extension": ".py",
   "mimetype": "text/x-python",
   "name": "python",
   "nbconvert_exporter": "python",
   "pygments_lexer": "ipython3",
   "version": "3.12.1"
  }
 },
 "nbformat": 4,
 "nbformat_minor": 5
}
