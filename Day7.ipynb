{
 "cells": [
  {
   "cell_type": "markdown",
   "id": "2464cb22-8f0f-46f3-833e-4183164f6a80",
   "metadata": {},
   "source": [
    "## Pandas"
   ]
  },
  {
   "cell_type": "markdown",
   "id": "e59e4ec4-299e-4b91-a8b6-311f307f5d56",
   "metadata": {},
   "source": [
    "### Series"
   ]
  },
  {
   "cell_type": "code",
   "execution_count": null,
   "id": "65db51da-abe7-45d6-9d22-f8b1afe0df4d",
   "metadata": {},
   "outputs": [],
   "source": [
    "import numpy as np\n",
    "import pandas as pd\n",
    "\n",
    "ser1 = pd.Series(data=[120, 380, 250, 360], index=['S1', 'S2', 'S3', 'S4'])\n",
    "ser1"
   ]
  },
  {
   "cell_type": "code",
   "execution_count": null,
   "id": "dc64258e-1a77-4f21-8ad2-d43989dc5509",
   "metadata": {},
   "outputs": [],
   "source": [
    "ser2 = pd.Series({'S1': 320, 'S2': 180, 'S3': 300, 'S4': 405})\n",
    "ser2"
   ]
  },
  {
   "cell_type": "code",
   "execution_count": null,
   "id": "54b10acf-3e41-4989-aa2e-d7e5d35d5ed5",
   "metadata": {},
   "outputs": [],
   "source": [
    "ser1 += 10\n",
    "ser1"
   ]
  },
  {
   "cell_type": "code",
   "execution_count": null,
   "id": "1b4955cb-d17a-439e-9919-719840013665",
   "metadata": {},
   "outputs": [],
   "source": [
    "ser1 + ser2"
   ]
  },
  {
   "cell_type": "code",
   "execution_count": null,
   "id": "1aeb34cc-8c6f-4727-b36c-aeed4a7a5120",
   "metadata": {},
   "outputs": [],
   "source": [
    "ser1[2] == ser1[\"S3\"]"
   ]
  },
  {
   "cell_type": "code",
   "execution_count": null,
   "id": "b68bb7ab-012c-4380-a75b-a0e80c80e29b",
   "metadata": {},
   "outputs": [],
   "source": [
    "ser2[1:3]"
   ]
  },
  {
   "cell_type": "code",
   "execution_count": null,
   "id": "5fc751d3-861d-469e-b882-b844d4c172ed",
   "metadata": {},
   "outputs": [],
   "source": [
    "print(ser2.dtype)                    \n",
    "print(ser2.hasnans)                  \n",
    "print(ser2.index)                     \n",
    "print(ser2.values)                    \n",
    "print(ser2.is_monotonic_increasing)  \n",
    "print(ser2.is_unique)  "
   ]
  },
  {
   "cell_type": "code",
   "execution_count": null,
   "id": "0c26b592-f445-46ef-9ebe-76d2c1fa6148",
   "metadata": {},
   "outputs": [],
   "source": [
    "print(ser2.count())   # \n",
    "print(ser2.sum())     # \n",
    "print(ser2.mean())    # \n",
    "print(ser2.median())  # \n",
    "print(ser2.max())     # \n",
    "print(ser2.min())     # \n",
    "print(ser2.std())     # \n",
    "print(ser2.var())     # "
   ]
  },
  {
   "cell_type": "code",
   "execution_count": null,
   "id": "2f4fb4a7-5a1f-4d8d-bf7e-c64e7f054651",
   "metadata": {},
   "outputs": [],
   "source": [
    "ser2.describe()"
   ]
  },
  {
   "cell_type": "code",
   "execution_count": null,
   "id": "b587f07b-c2d5-4856-ab2b-1a754dfcc6c4",
   "metadata": {},
   "outputs": [],
   "source": [
    "ser3 = pd.Series(data=['apple', 'banana', 'apple', 'pitaya', 'apple', 'pitaya', 'durian'])\n",
    "ser3.value_counts()"
   ]
  },
  {
   "cell_type": "code",
   "execution_count": null,
   "id": "1b92894b-0886-4e8b-8833-2c867c26d6fa",
   "metadata": {},
   "outputs": [],
   "source": [
    "ser3.nunique()"
   ]
  },
  {
   "cell_type": "code",
   "execution_count": null,
   "id": "8538ebb0-eacd-4803-aa43-b195e9b790f8",
   "metadata": {},
   "outputs": [],
   "source": [
    "ser4 = pd.Series(data=[10, 20, np.nan, 30, np.nan])\n",
    "ser4.isna()"
   ]
  },
  {
   "cell_type": "code",
   "execution_count": null,
   "id": "257c495a-56fc-419d-8b30-fee00d9fd0df",
   "metadata": {},
   "outputs": [],
   "source": [
    "ser4.dropna()"
   ]
  },
  {
   "cell_type": "code",
   "execution_count": null,
   "id": "1477648d-23e4-472d-8076-f3fd760a7f37",
   "metadata": {},
   "outputs": [],
   "source": [
    "ser4.fillna(value=40)  "
   ]
  },
  {
   "cell_type": "code",
   "execution_count": null,
   "id": "96172360-04a5-4ece-abc4-3fe23aede2d7",
   "metadata": {},
   "outputs": [],
   "source": []
  },
  {
   "cell_type": "code",
   "execution_count": null,
   "id": "afc213e6-eb99-486d-9830-03168ef1676c",
   "metadata": {},
   "outputs": [],
   "source": [
    "ser7 = pd.Series([20, 21, 12],  index=['London', 'New York', 'Helsinki'])\n",
    "ser7"
   ]
  },
  {
   "cell_type": "code",
   "execution_count": null,
   "id": "634a282d-4005-4787-a28f-ee7d54cd124b",
   "metadata": {},
   "outputs": [],
   "source": [
    "ser7.apply(np.square)"
   ]
  },
  {
   "cell_type": "code",
   "execution_count": null,
   "id": "5bbad1b3-e8f2-47c3-ac7a-093b65261f8a",
   "metadata": {},
   "outputs": [],
   "source": [
    "ser7.apply(lambda x, value: x - value, args=(5, ))"
   ]
  },
  {
   "cell_type": "code",
   "execution_count": null,
   "id": "db7f5f24-2a21-4a54-838c-00c1330c179c",
   "metadata": {},
   "outputs": [],
   "source": [
    "ser8 = pd.Series(\n",
    "    data=[35, 96, 12, 57, 25, 89], \n",
    "    index=['grape', 'banana', 'pitaya', 'apple', 'peach', 'orange']\n",
    ")\n",
    "ser8.sort_values()  "
   ]
  },
  {
   "cell_type": "code",
   "execution_count": null,
   "id": "aa293fde-c139-47af-8567-b144baaa73ef",
   "metadata": {},
   "outputs": [],
   "source": [
    "ser8.sort_index(ascending=False)"
   ]
  },
  {
   "cell_type": "code",
   "execution_count": null,
   "id": "65bf3324-acfc-45ca-a1e3-3235ebda0deb",
   "metadata": {},
   "outputs": [],
   "source": [
    "ser8.nlargest(3)"
   ]
  },
  {
   "cell_type": "code",
   "execution_count": null,
   "id": "65464702-2d76-4147-9506-9fe8b6f6fae9",
   "metadata": {},
   "outputs": [],
   "source": [
    "import matplotlib.pyplot as plt\n",
    "\n",
    "ser9 = pd.Series({'Q1': 400, 'Q2': 520, 'Q3': 180, 'Q4': 380})\n",
    "\n",
    "ser9.plot(kind='bar')\n",
    "\n",
    "plt.ylim(0, 600)\n",
    "\n",
    "plt.xticks(rotation=0)\n",
    "\n",
    "for i in range(ser9.size):\n",
    "    plt.text(i, ser9.iloc[i] + 5, ser9.iloc[i], ha='center')\n",
    "plt.show()\n"
   ]
  },
  {
   "cell_type": "code",
   "execution_count": null,
   "id": "65f6563e-2790-4baf-925a-f30f8e2fde0c",
   "metadata": {},
   "outputs": [],
   "source": [
    "ser9.plot(kind='pie', autopct='%.1f%%', pctdistance=0.65)\n",
    "plt.show()"
   ]
  },
  {
   "cell_type": "markdown",
   "id": "f2ee1035-5f4c-41f0-ba9f-e0045424f3bb",
   "metadata": {},
   "source": [
    "### Dataframe"
   ]
  },
  {
   "cell_type": "code",
   "execution_count": null,
   "id": "baa17e37-c329-401b-a8e7-1b8f631b11a9",
   "metadata": {},
   "outputs": [],
   "source": [
    "scores = np.random.randint(60, 101, (5, 3))\n",
    "courses = ['English', 'Math', 'History']\n",
    "stu_ids = np.arange(1001, 1006)\n",
    "df1 = pd.DataFrame(data=scores, columns=courses, index=stu_ids)\n",
    "df1"
   ]
  },
  {
   "cell_type": "code",
   "execution_count": null,
   "id": "45ae05ab-4e5f-4a32-b8a2-185f5e90d2ad",
   "metadata": {},
   "outputs": [],
   "source": [
    "scores = {\n",
    "    'English': [62, 72, 93, 88, 93],\n",
    "    'Math': [95, 65, 86, 66, 87],\n",
    "    'History': [66, 75, 82, 69, 82],\n",
    "}\n",
    "stu_ids = np.arange(1001, 1006)\n",
    "df2 = pd.DataFrame(data=scores, index=stu_ids)\n",
    "df2"
   ]
  },
  {
   "cell_type": "code",
   "execution_count": null,
   "id": "e4d41edf-1f0c-43d6-b65b-3634b8471ba7",
   "metadata": {},
   "outputs": [],
   "source": [
    "pd.read_csv(\"res/annual-enterprise-survey-2021-financial-year-provisional-csv.csv\")"
   ]
  },
  {
   "cell_type": "code",
   "execution_count": null,
   "id": "384dc04d-4613-4289-9eeb-c20fe6d5c963",
   "metadata": {},
   "outputs": [],
   "source": [
    "!pip install xlrd # need this lib to open xls files"
   ]
  },
  {
   "cell_type": "code",
   "execution_count": null,
   "id": "0d8bf568-d96b-4e73-9640-2010b4fc7ef1",
   "metadata": {},
   "outputs": [],
   "source": [
    "df = pd.read_excel(\"res/file_example_XLS_10.xls\", sheet_name=\"Sheet1\")\n",
    "df"
   ]
  },
  {
   "cell_type": "code",
   "execution_count": null,
   "id": "4400e98e-094d-4745-945a-6acda827ea54",
   "metadata": {},
   "outputs": [],
   "source": [
    "df.head()"
   ]
  },
  {
   "cell_type": "code",
   "execution_count": null,
   "id": "4026aaa9-3350-4f4b-925e-9ee35b2af24f",
   "metadata": {},
   "outputs": [],
   "source": [
    "df.drop(columns=0, inplace=True)\n",
    "df.set_index(\"Id\", inplace=True)\n",
    "df"
   ]
  },
  {
   "cell_type": "code",
   "execution_count": null,
   "id": "1d0358ff-fd44-476f-95e4-fd216655d348",
   "metadata": {},
   "outputs": [],
   "source": [
    "df.Date"
   ]
  },
  {
   "cell_type": "code",
   "execution_count": null,
   "id": "d5a338ad-b93c-4e5d-a603-cf759bfcf0a9",
   "metadata": {},
   "outputs": [],
   "source": [
    "df[\"First Name\"]"
   ]
  },
  {
   "cell_type": "code",
   "execution_count": null,
   "id": "9955ee23-b126-452d-aa9d-21634efc4eed",
   "metadata": {},
   "outputs": [],
   "source": [
    "df.iloc[1]"
   ]
  },
  {
   "cell_type": "code",
   "execution_count": null,
   "id": "6aa2a0da-3353-4110-81b7-0da6d21e4c3d",
   "metadata": {},
   "outputs": [],
   "source": [
    "df.loc[2468]"
   ]
  },
  {
   "cell_type": "code",
   "execution_count": null,
   "id": "81ea6fa8-c0ba-4dd9-9149-c7e13ad8ee03",
   "metadata": {},
   "outputs": [],
   "source": [
    "df[df[\"Age\"] > 30]"
   ]
  },
  {
   "cell_type": "code",
   "execution_count": null,
   "id": "18539fc2-eb11-4e02-b511-fd5ac5e4cb03",
   "metadata": {},
   "outputs": [],
   "source": [
    "df[(df[\"Age\"] < 30) & (df.index>2000)]"
   ]
  },
  {
   "cell_type": "code",
   "execution_count": null,
   "id": "605c37c7-dbae-42fd-aae8-5dffa61293a1",
   "metadata": {},
   "outputs": [],
   "source": [
    "df.query(\"Gender=='Female' and Age>30\")"
   ]
  },
  {
   "cell_type": "code",
   "execution_count": null,
   "id": "a7ac2191-a64a-4134-b087-bb06f94c5f80",
   "metadata": {},
   "outputs": [],
   "source": [
    "df[[\"Gender\", \"Age\"]].groupby(\"Gender\").mean()"
   ]
  },
  {
   "cell_type": "code",
   "execution_count": null,
   "id": "bbb39d55-b026-484a-b709-8e18d4397b88",
   "metadata": {},
   "outputs": [],
   "source": [
    "df.groupby([\"Country\", \"Gender\"]).count()"
   ]
  },
  {
   "cell_type": "code",
   "execution_count": null,
   "id": "cf6f12e6-5e82-4293-b359-851785543887",
   "metadata": {},
   "outputs": [],
   "source": [
    "temp = pd.pivot_table(df, index='Country', values=['Age'], aggfunc='sum')\n",
    "temp"
   ]
  },
  {
   "cell_type": "code",
   "execution_count": null,
   "id": "d61fe095-dcbd-49fd-8197-b2f45df16e98",
   "metadata": {},
   "outputs": [],
   "source": [
    "temp.plot(figsize=(8, 4), kind='bar')\n",
    "plt.xticks(rotation=0)\n",
    "plt.show()"
   ]
  },
  {
   "cell_type": "code",
   "execution_count": null,
   "id": "4556b0dd-74b7-4694-a2d7-a7b88fb35cb0",
   "metadata": {},
   "outputs": [],
   "source": [
    "temp.sort_values(by='Age', ascending=False).plot(\n",
    "    figsize=(6, 6),\n",
    "    kind='pie',\n",
    "    y='Age',\n",
    "    ylabel='',\n",
    "    autopct='%.2f%%',\n",
    "    pctdistance=0.8,\n",
    "    wedgeprops=dict(linewidth=1, width=0.35),\n",
    "    legend=False\n",
    ")\n",
    "plt.show()"
   ]
  },
  {
   "cell_type": "code",
   "execution_count": null,
   "id": "bdf95f06-162a-422e-a543-bd92dce72edf",
   "metadata": {},
   "outputs": [],
   "source": [
    "!pip install openpyxl # need this for xlsx file"
   ]
  },
  {
   "cell_type": "code",
   "execution_count": null,
   "id": "3dbf5afa-5e0d-4b6a-b23d-a9a270933402",
   "metadata": {},
   "outputs": [],
   "source": [
    "baidu_df = pd.read_excel('res/stock.xlsx', sheet_name='BIDU')\n",
    "baidu_df"
   ]
  },
  {
   "cell_type": "code",
   "execution_count": null,
   "id": "1797c222-2d96-48d0-94e7-1f867835121a",
   "metadata": {},
   "outputs": [],
   "source": [
    "baidu_df.set_index(\"Date\", inplace=True)\n",
    "baidu_df.sort_index(inplace=True)\n",
    "baidu_df\n"
   ]
  },
  {
   "cell_type": "code",
   "execution_count": null,
   "id": "25e6ea43-d9a2-4210-b47e-cb3654f2af5e",
   "metadata": {},
   "outputs": [],
   "source": [
    "baidu_df.rolling(5).mean()"
   ]
  },
  {
   "cell_type": "code",
   "execution_count": null,
   "id": "13a33432-f46b-49c4-947b-b9e0b6f6a197",
   "metadata": {},
   "outputs": [],
   "source": [
    "close_ma10 = baidu_df.Close.rolling(10).mean()\n",
    "result_df = pd.merge(baidu_df.Close, close_ma10, left_index=True, right_index=True)\n",
    "result_df.rename(columns={'Close_x': 'Close', 'Close_y': 'MA10'}, inplace=True)\n",
    "result_df.plot(kind='line', figsize=(10, 6))\n",
    "plt.show()"
   ]
  }
 ],
 "metadata": {
  "kernelspec": {
   "display_name": "Python 3 (ipykernel)",
   "language": "python",
   "name": "python3"
  },
  "language_info": {
   "codemirror_mode": {
    "name": "ipython",
    "version": 3
   },
   "file_extension": ".py",
   "mimetype": "text/x-python",
   "name": "python",
   "nbconvert_exporter": "python",
   "pygments_lexer": "ipython3",
   "version": "3.12.1"
  }
 },
 "nbformat": 4,
 "nbformat_minor": 5
}
