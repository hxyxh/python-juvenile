{
 "cells": [
  {
   "cell_type": "markdown",
   "id": "1b0de2d8-484c-4c18-9659-8f7439b6ed76",
   "metadata": {},
   "source": [
    "## Functions"
   ]
  },
  {
   "cell_type": "code",
   "execution_count": null,
   "id": "7caea65d-262e-4bd1-8494-49b3523a831c",
   "metadata": {},
   "outputs": [],
   "source": [
    "\"\"\"\n",
    "C(M,N)\n",
    "\"\"\"\n",
    "m = int(input('m = '))\n",
    "n = int(input('n = '))\n",
    "fm = 1\n",
    "for num in range(1, m + 1):\n",
    "    fm *= num\n",
    "fn = 1\n",
    "for num in range(1, n + 1):\n",
    "    fn *= num\n",
    "fm_n = 1\n",
    "for num in range(1, m - n + 1):\n",
    "    fm_n *= num\n",
    "print(fm // fn // fm_n)"
   ]
  },
  {
   "cell_type": "code",
   "execution_count": null,
   "id": "591340fb-8f64-4cb9-affb-30be88c23ccc",
   "metadata": {},
   "outputs": [],
   "source": [
    "\"\"\"\n",
    "C(M,N) with X!\n",
    "\"\"\"\n",
    "def fac(num):\n",
    "    result = 1\n",
    "    for n in range(1, num + 1):\n",
    "        result *= n\n",
    "    return result\n",
    "\n",
    "\n",
    "m = int(input('m = '))\n",
    "n = int(input('n = '))\n",
    "print(fac(m) // fac(n) // fac(m - n))"
   ]
  },
  {
   "cell_type": "code",
   "execution_count": 4,
   "id": "6467e973-681c-4ddd-a1d7-616b119fa94c",
   "metadata": {},
   "outputs": [
    {
     "name": "stdout",
     "output_type": "stream",
     "text": [
      "roll 0: 3\n",
      "roll 1: 3\n",
      "6\n",
      "roll 0: 3\n",
      "roll 1: 4\n",
      "roll 2: 1\n",
      "8\n"
     ]
    }
   ],
   "source": [
    "\"\"\"\n",
    "arguments\n",
    "\"\"\"\n",
    "\n",
    "from random import randint\n",
    "\n",
    "def roll_dice(n=2):\n",
    "    total = 0\n",
    "    for j in range(n):\n",
    "        r = randint(1, 6)\n",
    "        print(f\"roll {j}: {r}\")\n",
    "        total += r\n",
    "    return total\n",
    "\n",
    "print(roll_dice())\n",
    "print(roll_dice(3))\n"
   ]
  },
  {
   "cell_type": "code",
   "execution_count": 7,
   "id": "ce8f4242-0df6-4a5d-8b52-6b1cba08e678",
   "metadata": {},
   "outputs": [
    {
     "name": "stdout",
     "output_type": "stream",
     "text": [
      "0\n",
      "1\n",
      "3\n",
      "6\n",
      "350\n"
     ]
    }
   ],
   "source": [
    "\"\"\"\n",
    "Default value of argument\n",
    "\"\"\"\n",
    "\n",
    "def add(a=0, b=0, c=0):\n",
    "    return a + b + c\n",
    "\n",
    "print(add())\n",
    "print(add(1))\n",
    "print(add(1, 2))\n",
    "print(add(1, 2, 3))\n",
    "\n",
    "print(add(c=50, a=100, b=200))"
   ]
  },
  {
   "cell_type": "markdown",
   "id": "3785e683-b1fa-4941-8a24-b42fe9b32032",
   "metadata": {},
   "source": [
    "## Modules"
   ]
  },
  {
   "cell_type": "code",
   "execution_count": 2,
   "id": "25ffdc12-ce40-47bc-a57e-2a4e6b90029f",
   "metadata": {},
   "outputs": [
    {
     "name": "stdout",
     "output_type": "stream",
     "text": [
      "hello, world!\n"
     ]
    }
   ],
   "source": [
    "from modules.module1 import foo\n",
    "foo()"
   ]
  },
  {
   "cell_type": "code",
   "execution_count": 1,
   "id": "165f2626-8704-4e11-a8af-96c8f9d38253",
   "metadata": {},
   "outputs": [],
   "source": [
    "import modules.module1 as m"
   ]
  },
  {
   "cell_type": "code",
   "execution_count": 6,
   "id": "6bda4b94-c7f8-4698-a948-9fea0af8e886",
   "metadata": {},
   "outputs": [
    {
     "name": "stdout",
     "output_type": "stream",
     "text": [
      "ddddd1000\n"
     ]
    }
   ],
   "source": [
    "m.hello_again(m.x)"
   ]
  },
  {
   "cell_type": "code",
   "execution_count": 1,
   "id": "db62b4d0-4963-4c4f-b20a-cd93423e468a",
   "metadata": {},
   "outputs": [
    {
     "name": "stdout",
     "output_type": "stream",
     "text": [
      "goodbye, world!\n"
     ]
    }
   ],
   "source": [
    "from modules.module2 import foo\n",
    "foo()"
   ]
  },
  {
   "cell_type": "code",
   "execution_count": 3,
   "id": "5843a1fe-6780-4af8-8d1d-9fe18708d28c",
   "metadata": {},
   "outputs": [
    {
     "name": "stdout",
     "output_type": "stream",
     "text": [
      "hello, world!\n"
     ]
    }
   ],
   "source": [
    "foo()"
   ]
  },
  {
   "cell_type": "code",
   "execution_count": 4,
   "id": "e7591b6b-8f28-4327-ac5f-d8376f70eaa9",
   "metadata": {},
   "outputs": [
    {
     "name": "stdout",
     "output_type": "stream",
     "text": [
      "hello, world!\n",
      "goodbye, world!\n"
     ]
    }
   ],
   "source": [
    "import modules.module1 as m1\n",
    "import modules.module2 as m2\n",
    "\n",
    "m1.foo()\n",
    "m2.foo()"
   ]
  },
  {
   "cell_type": "code",
   "execution_count": 7,
   "id": "34973482-f0ed-40fb-a603-95e429477a99",
   "metadata": {},
   "outputs": [],
   "source": [
    "# Greatest Common Divisor\n",
    "def gcd(x, y):\n",
    "    (x, y) = (y, x) if x > y else (x, y)\n",
    "    for factor in range(x, 0, -1):\n",
    "        if x % factor == 0 and y % factor == 0:\n",
    "            return factor\n",
    "            \n",
    "assert gcd(100,50)==50\n",
    "assert gcd(100,98)==2"
   ]
  },
  {
   "cell_type": "markdown",
   "id": "12570cc5-abd7-49c2-8edd-46738858b693",
   "metadata": {},
   "source": [
    "## Practice"
   ]
  },
  {
   "cell_type": "code",
   "execution_count": null,
   "id": "d0d6b056-7f3f-4079-bbec-a7ffb335e1de",
   "metadata": {},
   "outputs": [],
   "source": [
    "# least common multiple\n",
    "def lcm(x, y):\n",
    "    # TODO\n",
    "    pass\n",
    "\n",
    "assert lcm(5, 11) == 55\n",
    "assert lcm(2, 6) == 6"
   ]
  },
  {
   "cell_type": "code",
   "execution_count": null,
   "id": "03707dc5-7102-40dd-ad05-254abc60df65",
   "metadata": {},
   "outputs": [],
   "source": [
    "def is_prime(num)->bool:\n",
    "    # TODO\n",
    "    pass\n",
    "\n",
    "assert is_prime(2)\n",
    "assert is_prime(4) == False\n",
    "\n",
    "for i in range(101):\n",
    "    if is_prime(i):\n",
    "        print(\"prime:\", i)"
   ]
  },
  {
   "cell_type": "code",
   "execution_count": null,
   "id": "6e5ca3f6-fdbe-40d4-83cf-b7beebd47c02",
   "metadata": {},
   "outputs": [],
   "source": [
    "def is_palindrome(num)->bool:\n",
    "    # TODO\n",
    "    pass\n",
    "\n",
    "assert is_palindrome(33433)\n",
    "assert is_palindrome(334332)==False"
   ]
  },
  {
   "cell_type": "code",
   "execution_count": null,
   "id": "d2fa3360-a5e6-4abd-9669-b09d072f7e15",
   "metadata": {},
   "outputs": [],
   "source": [
    "def is_palindrome_and_prime(num):\n",
    "    # TODO\n",
    "    pass\n",
    "\n",
    "print(is_palindrome_and_prime(input(\"please input a number to check: \")))"
   ]
  }
 ],
 "metadata": {
  "kernelspec": {
   "display_name": "Python 3 (ipykernel)",
   "language": "python",
   "name": "python3"
  },
  "language_info": {
   "codemirror_mode": {
    "name": "ipython",
    "version": 3
   },
   "file_extension": ".py",
   "mimetype": "text/x-python",
   "name": "python",
   "nbconvert_exporter": "python",
   "pygments_lexer": "ipython3",
   "version": "3.12.1"
  }
 },
 "nbformat": 4,
 "nbformat_minor": 5
}
