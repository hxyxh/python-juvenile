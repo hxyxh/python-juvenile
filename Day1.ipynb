{
 "cells": [
  {
   "cell_type": "markdown",
   "id": "f535d0c2-0267-4c92-a9ad-cf022b546194",
   "metadata": {},
   "source": [
    "## Hello Python"
   ]
  },
  {
   "cell_type": "markdown",
   "id": "cfdd6ae2-c95d-4ddf-ab2f-fb06fedbd834",
   "metadata": {},
   "source": [
    "### print a string"
   ]
  },
  {
   "cell_type": "code",
   "execution_count": null,
   "id": "40c044b9-96a1-4a14-a157-d11021830201",
   "metadata": {},
   "outputs": [],
   "source": [
    "print(\"This is my first python fucntion\")"
   ]
  },
  {
   "cell_type": "code",
   "execution_count": null,
   "id": "d239f4a1-04b2-4c76-9beb-a7cb8921adb2",
   "metadata": {},
   "outputs": [],
   "source": [
    "name = \"Python\" #define a variable\n",
    "\n",
    "print(f\"My name is {name}.\")"
   ]
  },
  {
   "cell_type": "code",
   "execution_count": null,
   "id": "7c3fcc0b-0163-4591-94e9-f4716652d62a",
   "metadata": {},
   "outputs": [],
   "source": [
    "\"\"\"\n",
    "use variable to store data and do calculation\n",
    "\"\"\"\n",
    "a = 321\n",
    "b = 12\n",
    "print(a + b)    # 333\n",
    "print(a - b)    # 309\n",
    "print(a * b)    # 3852\n",
    "print(a / b)    # 26.75"
   ]
  },
  {
   "cell_type": "code",
   "execution_count": null,
   "id": "544fbc44-0870-49ea-939c-a2ec972f43c0",
   "metadata": {},
   "outputs": [],
   "source": [
    "\"\"\"\n",
    "use type()to check type of variables\n",
    "\n",
    "\"\"\"\n",
    "\n",
    "a = 100\n",
    "b = 12.345\n",
    "c = 1 + 5j\n",
    "d = 'hello, world'\n",
    "e = True\n",
    "print(type(a))    # <class 'int'>\n",
    "print(type(b))    # <class 'float'>\n",
    "print(type(c))    # <class 'complex'>\n",
    "print(type(d))    # <class 'str'>\n",
    "print(type(e))    # <class 'bool'>"
   ]
  },
  {
   "cell_type": "code",
   "execution_count": null,
   "id": "cf606bb5-0f85-413a-a5b4-85ae2996e537",
   "metadata": {},
   "outputs": [],
   "source": [
    "\"\"\"\n",
    "Set vairalbe and calculate\n",
    "\"\"\"\n",
    "a = 10\n",
    "b = 3\n",
    "a += b        # a = a + b\n",
    "a *= a + 2    # a = a * (a + 2)\n",
    "print(a)      "
   ]
  },
  {
   "cell_type": "code",
   "execution_count": null,
   "id": "38eb367b-101e-4119-b15c-b040cb4f6d2e",
   "metadata": {},
   "outputs": [],
   "source": [
    "\"\"\"\n",
    "Celsius to Fahrenheit\n",
    "\n",
    "\"\"\"\n",
    "f = float(input('Input Fahrenheit '))\n",
    "c = (f - 32) / 1.8\n",
    "print('%.1fF = %.1fC' % (f, c))"
   ]
  },
  {
   "cell_type": "code",
   "execution_count": null,
   "id": "c273eab3-2de6-4b66-874f-7fd2472e83b6",
   "metadata": {},
   "outputs": [],
   "source": [
    "\"\"\"leap year\"\"\"\n",
    "\n",
    "year = int(input('input the year: '))\n",
    "is_leap = year % 4 == 0 and year % 100 != 0 or year % 400 == 0\n",
    "print(is_leap)"
   ]
  },
  {
   "cell_type": "code",
   "execution_count": null,
   "id": "59f94a4c-2015-49ee-afeb-382808124d1f",
   "metadata": {},
   "outputs": [],
   "source": [
    "\"\"\"\n",
    "calculate perimeter and area of circle\n",
    "\"\"\"\n"
   ]
  }
 ],
 "metadata": {
  "kernelspec": {
   "display_name": "Python 3 (ipykernel)",
   "language": "python",
   "name": "python3"
  },
  "language_info": {
   "codemirror_mode": {
    "name": "ipython",
    "version": 3
   },
   "file_extension": ".py",
   "mimetype": "text/x-python",
   "name": "python",
   "nbconvert_exporter": "python",
   "pygments_lexer": "ipython3",
   "version": "3.9.18"
  }
 },
 "nbformat": 4,
 "nbformat_minor": 5
}
