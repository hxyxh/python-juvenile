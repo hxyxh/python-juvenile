{
 "cells": [
  {
   "cell_type": "markdown",
   "id": "2784e627-f3ab-4912-9e14-5fc44c10f86f",
   "metadata": {},
   "source": [
    "## Control flow"
   ]
  },
  {
   "cell_type": "code",
   "execution_count": 2,
   "id": "d04e31cb-c905-433b-b725-eeb1fc4cbc92",
   "metadata": {},
   "outputs": [
    {
     "name": "stdin",
     "output_type": "stream",
     "text": [
      "input username:  admin\n",
      "input password:  123456\n"
     ]
    },
    {
     "name": "stdout",
     "output_type": "stream",
     "text": [
      "login successfully!\n"
     ]
    }
   ],
   "source": [
    "\"\"\"\n",
    "auth\n",
    "\"\"\"\n",
    "username = input('input username: ')\n",
    "password = input('input password: ')\n",
    "\n",
    "if username == 'admin' and password == '123456':\n",
    "    print('login successfully!')\n",
    "else:\n",
    "    print('login failed, please try again.')"
   ]
  },
  {
   "cell_type": "code",
   "execution_count": 3,
   "id": "208e2e4b-930d-42c5-b4b8-ac4408f73691",
   "metadata": {},
   "outputs": [
    {
     "name": "stdin",
     "output_type": "stream",
     "text": [
      "x =  10\n"
     ]
    },
    {
     "name": "stdout",
     "output_type": "stream",
     "text": [
      "f(10.00) = 25.00\n"
     ]
    }
   ],
   "source": [
    "\"\"\"\n",
    "        3x - 5  (x > 1)\n",
    "f(x) =  x + 2   (-1 <= x <= 1)\n",
    "        5x + 3  (x < -1)\n",
    "\n",
    "\"\"\"\n",
    "\n",
    "x = float(input('x = '))\n",
    "if x > 1:\n",
    "    y = 3 * x - 5\n",
    "elif x >= -1:\n",
    "    y = x + 2\n",
    "else:\n",
    "    y = 5 * x + 3\n",
    "print('f(%.2f) = %.2f' % (x, y))"
   ]
  },
  {
   "cell_type": "code",
   "execution_count": null,
   "id": "e542bd95-32f7-4b51-b651-4d1eb2827eb1",
   "metadata": {},
   "outputs": [],
   "source": [
    "\"\"\"\n",
    "score to grade\n",
    "\n",
    "[90, ) -> A\n",
    "[80, 90) -> B\n",
    "[70, 80) -> C\n",
    "[60, 70) -> D\n",
    "(, 60) -> F\n",
    "\n",
    "\"\"\""
   ]
  },
  {
   "cell_type": "code",
   "execution_count": 10,
   "id": "eb90cac8-69c3-46b6-9f20-3b4b024cbaec",
   "metadata": {},
   "outputs": [
    {
     "name": "stdout",
     "output_type": "stream",
     "text": [
      "5050\n"
     ]
    }
   ],
   "source": [
    "\"\"\"sum from 1 to 100\n",
    "[0, 101)\n",
    "\"\"\"\n",
    "sum = 0\n",
    "for x in range(101):\n",
    "    sum += x\n",
    "print(sum)"
   ]
  },
  {
   "cell_type": "code",
   "execution_count": null,
   "id": "962fd169-43e3-4299-ba1a-0e401929a382",
   "metadata": {},
   "outputs": [],
   "source": [
    "\"\"\"\n",
    "sum of even numbers from 1~100\n",
    "\"\"\"\n",
    "sum = 0\n",
    "for x in range(1, 101):\n",
    "    if x % 2 == 0:\n",
    "        sum += x\n",
    "print(sum)"
   ]
  },
  {
   "cell_type": "code",
   "execution_count": 11,
   "id": "82e40d97-4211-408b-9251-e390121be310",
   "metadata": {},
   "outputs": [
    {
     "ename": "SyntaxError",
     "evalue": "'return' outside function (2812356904.py, line 11)",
     "output_type": "error",
     "traceback": [
      "\u001b[0;36m  Cell \u001b[0;32mIn[11], line 11\u001b[0;36m\u001b[0m\n\u001b[0;31m    return\u001b[0m\n\u001b[0m    ^\u001b[0m\n\u001b[0;31mSyntaxError\u001b[0m\u001b[0;31m:\u001b[0m 'return' outside function\n"
     ]
    }
   ],
   "source": [
    "\"\"\"\n",
    "Guess the number\n",
    "\"\"\"\n",
    "import random\n",
    "\n",
    "answer = random.randint(1, 100)\n",
    "counter = 0\n",
    "while True:\n",
    "    counter += 1\n",
    "    number = int(input('input: ')) #guess\n",
    "    if number < answer:\n",
    "        print('too small')\n",
    "    elif number > answer:\n",
    "        print('too big')\n",
    "    else:\n",
    "        print('Congrat!!!')\n",
    "        break\n",
    "    print(\"try again\")\n",
    "    \n",
    "print('total count: %d' % counter)\n",
    "if counter > 7:\n",
    "    print('Sorry, try harder next time.')\n",
    "else:\n",
    "    print(\"good job\")"
   ]
  },
  {
   "cell_type": "code",
   "execution_count": 30,
   "id": "9e428c9a-9fae-42d0-b163-05d6f08cb5fb",
   "metadata": {},
   "outputs": [
    {
     "name": "stdout",
     "output_type": "stream",
     "text": [
      "1*1=1\t\n",
      "2*1=2\t2*2=4\t\n",
      "3*1=3\t3*2=6\t3*3=9\t\n",
      "4*1=4\t4*2=8\t4*3=12\t4*4=16\t\n",
      "5*1=5\t5*2=10\t5*3=15\t5*4=20\t5*5=25\t\n",
      "6*1=6\t6*2=12\t6*3=18\t6*4=24\t6*5=30\t6*6=36\t\n",
      "7*1=7\t7*2=14\t7*3=21\t7*4=28\t7*5=35\t7*6=42\t7*7=49\t\n",
      "8*1=8\t8*2=16\t8*3=24\t8*4=32\t8*5=40\t8*6=48\t8*7=56\t8*8=64\t\n",
      "9*1=9\t9*2=18\t9*3=27\t9*4=36\t9*5=45\t9*6=54\t9*7=63\t9*8=72\t9*9=81\t\n"
     ]
    }
   ],
   "source": [
    "\"\"\"乘法口诀\"\"\"\n",
    "for i in range(1, 10):\n",
    "    for j in range(1, i + 1):\n",
    "        print(\" \", end=\"\")\n",
    "    for j in range(1, i + 1):\n",
    "        print (\"*\", end=\"\")\n",
    "        \n",
    "    print()\n",
    "\n",
    "\n",
    "\n"
   ]
  },
  {
   "cell_type": "code",
   "execution_count": null,
   "id": "da11fd37-5367-40fb-81be-9c672b9014a0",
   "metadata": {},
   "outputs": [],
   "source": [
    "\"\"\"Prime number checker\"\"\"\n",
    "import math\n",
    "\n",
    "\n",
    "num = int(input('Please input a positive integer: '))\n",
    "end = int(math.sqrt(num))\n",
    "is_prime = True\n",
    "for x in range(2, end + 1):\n",
    "    if num % x == 0:\n",
    "        is_prime = False\n",
    "        break\n",
    "if is_prime and num != 1:\n",
    "    print('%d is prime number' % num)\n",
    "else:\n",
    "    print('%d is not prime number' % num)\n"
   ]
  },
  {
   "cell_type": "code",
   "execution_count": 4,
   "id": "64436ac6-941c-42b4-b5e4-dd483b9e786c",
   "metadata": {},
   "outputs": [
    {
     "name": "stdout",
     "output_type": "stream",
     "text": [
      "*\n",
      "**\n",
      "***\n",
      "****\n",
      "*****\n"
     ]
    }
   ],
   "source": [
    "\"\"\"Print the triagles\n",
    "*\n",
    "**\n",
    "***\n",
    "****\n",
    "*****\n",
    "\"\"\"\n",
    "\n",
    "for i in range(5):\n",
    "    print(\"*\" * (i + 1))\n"
   ]
  },
  {
   "cell_type": "code",
   "execution_count": 7,
   "id": "9985797d-9c49-42d7-901a-0d27d75662f1",
   "metadata": {},
   "outputs": [
    {
     "name": "stdout",
     "output_type": "stream",
     "text": [
      "    *\n",
      "   **\n",
      "  ***\n",
      " ****\n",
      "*****\n"
     ]
    }
   ],
   "source": [
    "\"\"\"Print the triagles\n",
    "    *\n",
    "   **\n",
    "  ***\n",
    " ****\n",
    "*****\n",
    "\"\"\"\n",
    "for i in range(5):\n",
    "    print(\" \" * (4 - i), end=\"\")\n",
    "    print(\"*\" * (i + 1))\n"
   ]
  },
  {
   "cell_type": "code",
   "execution_count": null,
   "id": "07a18d02-85e8-4cf9-9823-e0b56f3954fa",
   "metadata": {},
   "outputs": [],
   "source": [
    "\"\"\"\n",
    "    *\n",
    "   ***\n",
    "  *****\n",
    " *******\n",
    "*********\n",
    "\"\"\""
   ]
  },
  {
   "cell_type": "code",
   "execution_count": 9,
   "id": "97d5b051-c881-442a-ba37-2659279060fb",
   "metadata": {},
   "outputs": [
    {
     "name": "stdout",
     "output_type": "stream",
     "text": [
      "    *\n",
      "   ***\n",
      "  *****\n",
      " *******\n",
      "*********\n"
     ]
    }
   ],
   "source": [
    "for i in range(1, 6):\n",
    "    for j in range(1, 10):\n",
    "        if i.. and j==...:\n",
    "            print(\" \", end=\"\")\n",
    "        else:\n",
    "            print(\"*\", end=\"\")\n",
    "    "
   ]
  }
 ],
 "metadata": {
  "kernelspec": {
   "display_name": "Python 3 (ipykernel)",
   "language": "python",
   "name": "python3"
  },
  "language_info": {
   "codemirror_mode": {
    "name": "ipython",
    "version": 3
   },
   "file_extension": ".py",
   "mimetype": "text/x-python",
   "name": "python",
   "nbconvert_exporter": "python",
   "pygments_lexer": "ipython3",
   "version": "3.12.1"
  }
 },
 "nbformat": 4,
 "nbformat_minor": 5
}
