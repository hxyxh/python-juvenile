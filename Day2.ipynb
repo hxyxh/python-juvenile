{
 "cells": [
  {
   "cell_type": "markdown",
   "id": "2784e627-f3ab-4912-9e14-5fc44c10f86f",
   "metadata": {},
   "source": [
    "## Control flow"
   ]
  },
  {
   "cell_type": "code",
   "execution_count": null,
   "id": "d04e31cb-c905-433b-b725-eeb1fc4cbc92",
   "metadata": {},
   "outputs": [],
   "source": [
    "\"\"\"\n",
    "auth\n",
    "\"\"\"\n",
    "username = input('input username: ')\n",
    "password = input('input password: ')\n",
    "\n",
    "if username == 'admin' and password == '123456':\n",
    "    print('login successfully!')\n",
    "else:\n",
    "    print('login failed, please try again.')"
   ]
  },
  {
   "cell_type": "code",
   "execution_count": null,
   "id": "208e2e4b-930d-42c5-b4b8-ac4408f73691",
   "metadata": {},
   "outputs": [],
   "source": [
    "\"\"\"\n",
    "        3x - 5  (x > 1)\n",
    "f(x) =  x + 2   (-1 <= x <= 1)\n",
    "        5x + 3  (x < -1)\n",
    "\n",
    "\"\"\"\n",
    "\n",
    "x = float(input('x = '))\n",
    "if x > 1:\n",
    "    y = 3 * x - 5\n",
    "elif x >= -1:\n",
    "    y = x + 2\n",
    "else:\n",
    "    y = 5 * x + 3\n",
    "print('f(%.2f) = %.2f' % (x, y))"
   ]
  },
  {
   "cell_type": "code",
   "execution_count": null,
   "id": "e542bd95-32f7-4b51-b651-4d1eb2827eb1",
   "metadata": {},
   "outputs": [],
   "source": [
    "\"\"\"\n",
    "score to grade\n",
    "\n",
    "[90, ) -> A\n",
    "[80, 90) -> B\n",
    "[70, 80) -> C\n",
    "[60, 70) -> D\n",
    "(, 90) -> F\n",
    "\n",
    "\"\"\""
   ]
  },
  {
   "cell_type": "code",
   "execution_count": null,
   "id": "eb90cac8-69c3-46b6-9f20-3b4b024cbaec",
   "metadata": {},
   "outputs": [],
   "source": [
    "\"\"\"sum from 1 to 100\"\"\"\n",
    "sum = 0\n",
    "for x in range(101):\n",
    "    sum += x\n",
    "print(sum)"
   ]
  },
  {
   "cell_type": "code",
   "execution_count": null,
   "id": "962fd169-43e3-4299-ba1a-0e401929a382",
   "metadata": {},
   "outputs": [],
   "source": [
    "\"\"\"\n",
    "sum of even numbers from 1~100\n",
    "\"\"\"\n",
    "sum = 0\n",
    "for x in range(1, 101):\n",
    "    if x % 2 == 0:\n",
    "        sum += x\n",
    "print(sum)"
   ]
  },
  {
   "cell_type": "code",
   "execution_count": null,
   "id": "82e40d97-4211-408b-9251-e390121be310",
   "metadata": {},
   "outputs": [],
   "source": [
    "\"\"\"\n",
    "Guess the number\n",
    "\"\"\"\n",
    "import random\n",
    "\n",
    "answer = random.randint(1, 100)\n",
    "counter = 0\n",
    "while True:\n",
    "    counter += 1\n",
    "    number = int(input('input: '))\n",
    "    if number < answer:\n",
    "        print('too small')\n",
    "    elif number > answer:\n",
    "        print('too big')\n",
    "    else:\n",
    "        print('Congrat!!!')\n",
    "        break\n",
    "print('total count: %d' % counter)\n",
    "if counter > 7:\n",
    "    print('Sorry, try next time.')"
   ]
  },
  {
   "cell_type": "code",
   "execution_count": null,
   "id": "9e428c9a-9fae-42d0-b163-05d6f08cb5fb",
   "metadata": {},
   "outputs": [],
   "source": [
    "\"\"\"乘法口诀\"\"\"\n",
    "for i in range(1, 10):\n",
    "    for j in range(1, i + 1):\n",
    "        print('%d*%d=%d' % (i, j, i * j), end='\\t')\n",
    "    print()"
   ]
  },
  {
   "cell_type": "code",
   "execution_count": null,
   "id": "da11fd37-5367-40fb-81be-9c672b9014a0",
   "metadata": {},
   "outputs": [],
   "source": [
    "\"\"\"Prime number checker\"\"\"\n",
    "\n",
    "from math import sqrt\n",
    "\n",
    "num = int(input('Please input a positive integer: '))\n",
    "end = int(sqrt(num))\n",
    "is_prime = True\n",
    "for x in range(2, end + 1):\n",
    "    if num % x == 0:\n",
    "        is_prime = False\n",
    "        break\n",
    "if is_prime and num != 1:\n",
    "    print('%d is prime number' % num)\n",
    "else:\n",
    "    print('%d is not prime number' % num)"
   ]
  },
  {
   "cell_type": "code",
   "execution_count": null,
   "id": "64436ac6-941c-42b4-b5e4-dd483b9e786c",
   "metadata": {},
   "outputs": [],
   "source": [
    "\"\"\"Print the triagles\n",
    "*\n",
    "**\n",
    "***\n",
    "****\n",
    "*****\n",
    "\"\"\"\n"
   ]
  },
  {
   "cell_type": "code",
   "execution_count": null,
   "id": "9985797d-9c49-42d7-901a-0d27d75662f1",
   "metadata": {},
   "outputs": [],
   "source": [
    "\"\"\"Print the triagles\n",
    "    *\n",
    "   **\n",
    "  ***\n",
    " ****\n",
    "*****\n",
    "\"\"\""
   ]
  },
  {
   "cell_type": "code",
   "execution_count": null,
   "id": "07a18d02-85e8-4cf9-9823-e0b56f3954fa",
   "metadata": {},
   "outputs": [],
   "source": [
    "\"\"\" *\n",
    "   ***\n",
    "  *****\n",
    " *******\n",
    "*********\n",
    "\"\"\""
   ]
  },
  {
   "cell_type": "code",
   "execution_count": null,
   "id": "97d5b051-c881-442a-ba37-2659279060fb",
   "metadata": {},
   "outputs": [],
   "source": []
  }
 ],
 "metadata": {
  "kernelspec": {
   "display_name": "Python 3 (ipykernel)",
   "language": "python",
   "name": "python3"
  },
  "language_info": {
   "codemirror_mode": {
    "name": "ipython",
    "version": 3
   },
   "file_extension": ".py",
   "mimetype": "text/x-python",
   "name": "python",
   "nbconvert_exporter": "python",
   "pygments_lexer": "ipython3",
   "version": "3.12.1"
  }
 },
 "nbformat": 4,
 "nbformat_minor": 5
}
