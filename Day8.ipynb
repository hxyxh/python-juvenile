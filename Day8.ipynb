{
 "cells": [
  {
   "cell_type": "markdown",
   "id": "1b33ebdc-b3a9-44ba-97fa-3d202d68079a",
   "metadata": {},
   "source": [
    "## Visualization"
   ]
  },
  {
   "cell_type": "code",
   "execution_count": null,
   "id": "8657441e-6825-47dc-a6ea-112a46a0d5d2",
   "metadata": {},
   "outputs": [],
   "source": [
    "!pip install -U matplotlib"
   ]
  },
  {
   "cell_type": "code",
   "execution_count": null,
   "id": "6041588e-e354-4407-8a75-eab899aae1ae",
   "metadata": {},
   "outputs": [],
   "source": [
    "import matplotlib.pyplot as plt\n",
    "import numpy as np\n",
    "\n",
    "x = np.linspace(-2 * np.pi, 2 * np.pi, 120)\n",
    "y = np.sin(x)\n",
    "\n",
    "plt.figure(figsize=(8, 4), dpi=120)\n",
    "\n",
    "plt.plot(x, y, linewidth=2, marker='*', color='red')\n",
    "\n",
    "plt.show()"
   ]
  },
  {
   "cell_type": "code",
   "execution_count": null,
   "id": "56db86a7-b17f-40eb-88ed-3c910354e1b8",
   "metadata": {},
   "outputs": [],
   "source": [
    "x = np.linspace(-2 * np.pi, 2 * np.pi, 120)\n",
    "y1, y2 = np.sin(x), np.cos(x)\n",
    "\n",
    "plt.figure(figsize=(8, 4), dpi=120)\n",
    "plt.plot(x, y1, linewidth=2, marker='*', color='red')\n",
    "plt.plot(x, y2, linewidth=2, marker='^', color='blue')\n",
    "\n",
    "plt.annotate('sin(x)', xytext=(0.5, -0.75), xy=(0, -0.25), fontsize=12, arrowprops={\n",
    "    'arrowstyle': '->', 'color': 'darkgreen', 'connectionstyle': 'angle3, angleA=90, angleB=0'\n",
    "})\n",
    "plt.annotate('cos(x)', xytext=(-3, 0.75), xy=(-1.25, 0.5), fontsize=12, arrowprops={\n",
    "    'arrowstyle': '->', 'color': 'darkgreen', 'connectionstyle': 'arc3, rad=0.35'\n",
    "})\n",
    "plt.show()"
   ]
  },
  {
   "cell_type": "code",
   "execution_count": null,
   "id": "bd616045-b61d-4d01-87c7-04b67ecd60f0",
   "metadata": {},
   "outputs": [],
   "source": [
    "plt.figure(figsize=(8, 4), dpi=120)\n",
    "\n",
    "plt.subplot(2, 1, 1)\n",
    "plt.plot(x, y1, linewidth=2, marker='*', color='red')\n",
    "\n",
    "plt.subplot(2, 1, 2)\n",
    "plt.plot(x, y2, linewidth=2, marker='^', color='blue')\n",
    "plt.show()"
   ]
  },
  {
   "cell_type": "code",
   "execution_count": null,
   "id": "2aebf6db-95c8-4ef8-ab65-7e562fcb3c0d",
   "metadata": {},
   "outputs": [],
   "source": [
    "plt.figure(figsize=(8, 4), dpi=120)\n",
    "plt.subplot(1, 2, 1)\n",
    "plt.plot(x, y1, linewidth=2, marker='*', color='red')\n",
    "plt.subplot(1, 2, 2)\n",
    "plt.plot(x, y2, linewidth=2, marker='^', color='blue')\n",
    "plt.show()"
   ]
  },
  {
   "cell_type": "code",
   "execution_count": null,
   "id": "64866ce9-0030-4236-8c43-73124fba171e",
   "metadata": {},
   "outputs": [],
   "source": [
    "x = np.array([5550, 7500, 10500, 15000, 20000, 25000, 30000, 40000])\n",
    "y = np.array([800, 1800, 1250, 2000, 1800, 2100, 2500, 3500])\n",
    "\n",
    "plt.figure(figsize=(6, 4), dpi=120)\n",
    "plt.scatter(x, y)\n",
    "plt.show()"
   ]
  },
  {
   "cell_type": "code",
   "execution_count": null,
   "id": "72ede780-4173-459b-b002-26fd34ef4045",
   "metadata": {},
   "outputs": [],
   "source": [
    "x = np.arange(4)\n",
    "y1 = np.random.randint(20, 50, 4)\n",
    "y2 = np.random.randint(10, 60, 4)\n",
    "\n",
    "plt.figure(figsize=(6, 4), dpi=120)\n",
    "\n",
    "plt.bar(x - 0.1, y1, width=0.2, label='A')\n",
    "plt.bar(x + 0.1, y2, width=0.2, label='B')\n",
    "\n",
    "plt.xticks(x, labels=['Q1', 'Q2', 'Q3', 'Q4'])\n",
    "\n",
    "plt.legend()\n",
    "plt.show()"
   ]
  },
  {
   "cell_type": "code",
   "execution_count": null,
   "id": "090f8820-19de-4015-864f-a9921bb70a84",
   "metadata": {},
   "outputs": [],
   "source": [
    "labels = ['Q1', 'Q2', 'Q3', 'Q4']\n",
    "plt.figure(figsize=(6, 4), dpi=120)\n",
    "plt.bar(labels, y1, width=0.4, label='A')\n",
    "\n",
    "plt.bar(labels, y2, width=0.4, bottom=y1, label='B')\n",
    "plt.legend(loc='lower right')\n",
    "plt.show()"
   ]
  },
  {
   "cell_type": "code",
   "execution_count": null,
   "id": "338b3725-23b2-43bf-b6be-85b21a8105c5",
   "metadata": {},
   "outputs": [],
   "source": [
    "data = np.random.randint(100, 500, 4)\n",
    "labels = ['Apple', 'Banana', 'Peach', 'Lychee']\n",
    "\n",
    "plt.figure(figsize=(5, 5), dpi=120)\n",
    "plt.pie(\n",
    "    data,\n",
    "    autopct='%.1f%%',\n",
    "    radius=1,\n",
    "    pctdistance=0.8,\n",
    "    colors=np.random.rand(4, 3),\n",
    "    textprops=dict(fontsize=8, color='black'),\n",
    "    wedgeprops=dict(linewidth=1, width=0.35),\n",
    "    labels=labels\n",
    ")\n",
    "\n",
    "plt.title('Sales pencentage')\n",
    "plt.show()"
   ]
  },
  {
   "cell_type": "code",
   "execution_count": null,
   "id": "217cc88c-d12b-497a-9b90-8a9fdb8b9c7d",
   "metadata": {},
   "outputs": [],
   "source": [
    "heights = np.array([\n",
    "    170, 163, 174, 164, 159, 168, 165, 171, 171, 167, \n",
    "    165, 161, 175, 170, 174, 170, 174, 170, 173, 173, \n",
    "    167, 169, 173, 153, 165, 169, 158, 166, 164, 173, \n",
    "    162, 171, 173, 171, 165, 152, 163, 170, 171, 163, \n",
    "    165, 166, 155, 155, 171, 161, 167, 172, 164, 155, \n",
    "    168, 171, 173, 169, 165, 162, 168, 177, 174, 178, \n",
    "    161, 180, 155, 155, 166, 175, 159, 169, 165, 174, \n",
    "    175, 160, 152, 168, 164, 175, 168, 183, 166, 166, \n",
    "    182, 174, 167, 168, 176, 170, 169, 173, 177, 168, \n",
    "    172, 159, 173, 185, 161, 170, 170, 184, 171, 172\n",
    "])\n",
    "\n",
    "plt.figure(figsize=(6, 4), dpi=120)\n",
    "plt.hist(heights, bins=np.arange(145, 196, 5), color='darkcyan')\n",
    "plt.xlabel('Height')\n",
    "plt.ylabel('Density')\n",
    "plt.show()"
   ]
  }
 ],
 "metadata": {
  "kernelspec": {
   "display_name": "Python 3 (ipykernel)",
   "language": "python",
   "name": "python3"
  },
  "language_info": {
   "codemirror_mode": {
    "name": "ipython",
    "version": 3
   },
   "file_extension": ".py",
   "mimetype": "text/x-python",
   "name": "python",
   "nbconvert_exporter": "python",
   "pygments_lexer": "ipython3",
   "version": "3.12.1"
  }
 },
 "nbformat": 4,
 "nbformat_minor": 5
}
